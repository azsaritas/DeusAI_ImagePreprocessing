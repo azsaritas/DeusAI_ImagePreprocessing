{
 "cells": [
  {
   "cell_type": "code",
   "execution_count": 1,
   "id": "6f941cc3",
   "metadata": {},
   "outputs": [],
   "source": [
    "import os\n",
    "import cv2\n",
    "import matplotlib.pyplot as plt\n",
    "import numpy as np"
   ]
  },
  {
   "cell_type": "code",
   "execution_count": 2,
   "id": "22bd3390",
   "metadata": {},
   "outputs": [],
   "source": [
    "cats_path = \"C:\\\\Users\\\\İdris Aydın\\\\Desktop\\\\cats\"\n",
    "dogs_path = \"C:\\\\Users\\\\İdris Aydın\\\\Desktop\\\\dogs\""
   ]
  },
  {
   "cell_type": "code",
   "execution_count": 3,
   "id": "16f1a8d7",
   "metadata": {},
   "outputs": [],
   "source": [
    "output_path = \"C:\\\\Users\\\\İdris Aydın\\\\Desktop\\\\dogs_and_cats\""
   ]
  },
  {
   "cell_type": "code",
   "execution_count": 4,
   "id": "ed93851f",
   "metadata": {},
   "outputs": [],
   "source": [
    "os.makedirs(output_path, exist_ok=True)\n",
    "os.makedirs(os.path.join(output_path, 'cats'), exist_ok=True)\n",
    "os.makedirs(os.path.join(output_path, 'dogs'), exist_ok=True)"
   ]
  },
  {
   "cell_type": "code",
   "execution_count": 5,
   "id": "13c6e362",
   "metadata": {},
   "outputs": [],
   "source": [
    "from PIL import Image"
   ]
  },
  {
   "cell_type": "code",
   "execution_count": 11,
   "id": "ecf5e7b0",
   "metadata": {},
   "outputs": [],
   "source": [
    "def resize_and_normalize_image(image_path, target_size = (128, 128)):\n",
    "    \n",
    "    image = Image.open(image_path) # Görseli yükledim\n",
    "    \n",
    "    image = image.resize(target_size) # Yeniden boyutlandırdım\n",
    "    \n",
    "    image = np.array(image)\n",
    "    \n",
    "    image = image / 255.0\n",
    "    \n",
    "    return image"
   ]
  },
  {
   "cell_type": "code",
   "execution_count": 14,
   "id": "60b0fc67",
   "metadata": {},
   "outputs": [],
   "source": [
    "def save_image(imageNP, save_path):\n",
    "    \n",
    "    image = Image.fromarray((imageNP * 255).astype(np.uint8))\n",
    "    image.save(save_path)"
   ]
  },
  {
   "cell_type": "code",
   "execution_count": 20,
   "id": "af2a275a",
   "metadata": {},
   "outputs": [],
   "source": [
    "def process_images_in_folder(inputFolder, outputFolder):\n",
    "    \n",
    "    for filename in os.listdir(inputFolder):\n",
    "        if filename.lower().endswith(('.png', '.jpg', '.jpeg')):\n",
    "            image_path = os.path.join(inputFolder, filename)\n",
    "            processed_image = resize_and_normalize_image(image_path)\n",
    "            save_path = os.path.join(outputFolder, filename)\n",
    "            save_image(processed_image, save_path)"
   ]
  },
  {
   "cell_type": "code",
   "execution_count": 21,
   "id": "b5b3ebad",
   "metadata": {},
   "outputs": [],
   "source": [
    "process_images_in_folder(cats_path, os.path.join(output_path, 'cats'))\n",
    "process_images_in_folder(dogs_path, os.path.join(output_path, 'dogs'))"
   ]
  }
 ],
 "metadata": {
  "kernelspec": {
   "display_name": "Python 3 (ipykernel)",
   "language": "python",
   "name": "python3"
  },
  "language_info": {
   "codemirror_mode": {
    "name": "ipython",
    "version": 3
   },
   "file_extension": ".py",
   "mimetype": "text/x-python",
   "name": "python",
   "nbconvert_exporter": "python",
   "pygments_lexer": "ipython3",
   "version": "3.11.2"
  }
 },
 "nbformat": 4,
 "nbformat_minor": 5
}
